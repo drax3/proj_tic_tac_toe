{
 "cells": [
  {
   "cell_type": "code",
   "execution_count": 3,
   "metadata": {},
   "outputs": [
    {
     "name": "stdout",
     "output_type": "stream",
     "text": [
      "['ACAD', 'APoint', 'Autocad', 'IS_PY3', '__builtins__', '__cached__', '__doc__', '__docformat__', '__file__', '__loader__', '__name__', '__package__', '__path__', '__spec__', '__version__', 'aDouble', 'aInt', 'aShort', 'api', 'array', 'compat', 'distance', 'math', 'operator', 'types']\n"
     ]
    }
   ],
   "source": [
    "import pyautocad\n",
    "\n",
    "# List all attributes and methods in the pyautocad module\n",
    "print(dir(pyautocad))\n"
   ]
  },
  {
   "cell_type": "code",
   "execution_count": 2,
   "metadata": {},
   "outputs": [
    {
     "name": "stdout",
     "output_type": "stream",
     "text": [
      "Collecting pyautocad\n",
      "  Downloading pyautocad-0.2.0.zip (45 kB)\n",
      "     ---------------------------------------- 0.0/45.6 kB ? eta -:--:--\n",
      "     -------- ------------------------------- 10.2/45.6 kB ? eta -:--:--\n",
      "     ----------------- -------------------- 20.5/45.6 kB 217.9 kB/s eta 0:00:01\n",
      "     ------------------------- ------------ 30.7/45.6 kB 217.9 kB/s eta 0:00:01\n",
      "     ---------------------------------- --- 41.0/45.6 kB 219.4 kB/s eta 0:00:01\n",
      "     -------------------------------------- 45.6/45.6 kB 226.6 kB/s eta 0:00:00\n",
      "  Installing build dependencies: started\n",
      "  Installing build dependencies: finished with status 'done'\n",
      "  Getting requirements to build wheel: started\n",
      "  Getting requirements to build wheel: finished with status 'done'\n",
      "  Preparing metadata (pyproject.toml): started\n",
      "  Preparing metadata (pyproject.toml): finished with status 'done'\n",
      "Collecting comtypes>=1.1.1 (from pyautocad)\n",
      "  Downloading comtypes-1.4.6-py3-none-any.whl.metadata (6.4 kB)\n",
      "Downloading comtypes-1.4.6-py3-none-any.whl (222 kB)\n",
      "   ---------------------------------------- 0.0/222.1 kB ? eta -:--:--\n",
      "   ----- ---------------------------------- 30.7/222.1 kB 1.3 MB/s eta 0:00:01\n",
      "   ---------------- ----------------------- 92.2/222.1 kB 1.1 MB/s eta 0:00:01\n",
      "   ----------------------------- ---------- 163.8/222.1 kB 1.2 MB/s eta 0:00:01\n",
      "   -------------------------------------- - 215.0/222.1 kB 1.3 MB/s eta 0:00:01\n",
      "   ---------------------------------------- 222.1/222.1 kB 1.2 MB/s eta 0:00:00\n",
      "Building wheels for collected packages: pyautocad\n",
      "  Building wheel for pyautocad (pyproject.toml): started\n",
      "  Building wheel for pyautocad (pyproject.toml): finished with status 'done'\n",
      "  Created wheel for pyautocad: filename=pyautocad-0.2.0-py3-none-any.whl size=11943 sha256=3ddeb4bd6d5ce77e753a0277d9805767bf9c02f13c41972f5a005a6a26208245\n",
      "  Stored in directory: c:\\users\\gl552vw\\appdata\\local\\pip\\cache\\wheels\\40\\4e\\7e\\648d0c064d9a044de9f1de5a42b352326ef2d8ed71a74774a9\n",
      "Successfully built pyautocad\n",
      "Installing collected packages: comtypes, pyautocad\n",
      "Successfully installed comtypes-1.4.6 pyautocad-0.2.0\n",
      "Note: you may need to restart the kernel to use updated packages.\n"
     ]
    },
    {
     "name": "stderr",
     "output_type": "stream",
     "text": [
      "  WARNING: The script clear_comtypes_cache.exe is installed in 'c:\\Users\\GL552VW\\AppData\\Local\\Programs\\Python\\Python312\\Scripts' which is not on PATH.\n",
      "  Consider adding this directory to PATH or, if you prefer to suppress this warning, use --no-warn-script-location.\n",
      "\n",
      "[notice] A new release of pip is available: 24.0 -> 24.2\n",
      "[notice] To update, run: python.exe -m pip install --upgrade pip\n"
     ]
    }
   ],
   "source": [
    "pip install pyautocad"
   ]
  }
 ],
 "metadata": {
  "kernelspec": {
   "display_name": "venv",
   "language": "python",
   "name": "python3"
  },
  "language_info": {
   "codemirror_mode": {
    "name": "ipython",
    "version": 3
   },
   "file_extension": ".py",
   "mimetype": "text/x-python",
   "name": "python",
   "nbconvert_exporter": "python",
   "pygments_lexer": "ipython3",
   "version": "3.12.4"
  }
 },
 "nbformat": 4,
 "nbformat_minor": 2
}
